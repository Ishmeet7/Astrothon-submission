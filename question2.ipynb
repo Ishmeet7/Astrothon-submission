{
  "nbformat": 4,
  "nbformat_minor": 0,
  "metadata": {
    "colab": {
      "name": "Untitled0.ipynb",
      "provenance": [],
      "collapsed_sections": []
    },
    "kernelspec": {
      "name": "python3",
      "display_name": "Python 3"
    },
    "language_info": {
      "name": "python"
    }
  },
  "cells": [
    {
      "cell_type": "code",
      "execution_count": null,
      "metadata": {
        "colab": {
          "base_uri": "https://localhost:8080/"
        },
        "id": "_KZdDN9Rcgmf",
        "outputId": "0a110c79-ba54-4f1e-9e94-f542b39225c4"
      },
      "outputs": [
        {
          "output_type": "stream",
          "name": "stdout",
          "text": [
            "Requirement already satisfied: astropy in /usr/local/lib/python3.7/dist-packages (4.3.1)\n",
            "Requirement already satisfied: importlib-metadata in /usr/local/lib/python3.7/dist-packages (from astropy) (4.10.1)\n",
            "Requirement already satisfied: numpy>=1.17 in /usr/local/lib/python3.7/dist-packages (from astropy) (1.19.5)\n",
            "Requirement already satisfied: pyerfa>=1.7.3 in /usr/local/lib/python3.7/dist-packages (from astropy) (2.0.0.1)\n",
            "Requirement already satisfied: zipp>=0.5 in /usr/local/lib/python3.7/dist-packages (from importlib-metadata->astropy) (3.7.0)\n",
            "Requirement already satisfied: typing-extensions>=3.6.4 in /usr/local/lib/python3.7/dist-packages (from importlib-metadata->astropy) (3.10.0.2)\n"
          ]
        }
      ],
      "source": [
        "pip install astropy\n"
      ]
    },
    {
      "cell_type": "code",
      "source": [
        "\n",
        "from astropy.cosmology import WMAP9 as cosmo\n",
        "from astropy import units as u\n",
        "a=float(input(\"Enter the value of scale factor:\"))  \n",
        "#calculation of redshift,z\n",
        "z=(1/a)-1\n",
        "d=float(input(\"Enter distance of galaxy from planet:\"))   #if distance is 5 million light years enter just 5\n",
        "#h0=hubble's constant\n",
        "#calculating hubble's constant\n",
        "h0=cosmo.H(z)\n",
        "#age=age of universe  \n",
        "age=cosmo.age(z)  \n",
        "#size=size of universe\n",
        "size=float(input(\"Enter size of the universe observer is in:\"))  #if distance is 5 million light years enter just 5\n",
        "#calculating distance upto which galaxy can be seen\n",
        "distance=size-d\n",
        "#rs=speed of recession of galaxy        \n",
        "rs=d*h0\n",
        "#conversion of megaparsec to km\n",
        "x = 1.0 * u.megaparsec\n",
        "y=x.to(u.km) \n",
        "#calculating time(t) upto which galaxy can be seen \n",
        "t=(distance*y)/rs\n",
        "print(\"Time period(in seconds) to know  about a galaxy is: \"+ str(t))\n",
        "\n",
        "\n"
      ],
      "metadata": {
        "id": "_n4L4dADcz8t",
        "colab": {
          "base_uri": "https://localhost:8080/"
        },
        "outputId": "ae9ce520-63e7-44d6-904e-ec596ad1772a"
      },
      "execution_count": 16,
      "outputs": [
        {
          "output_type": "stream",
          "name": "stdout",
          "text": [
            "Enter the value of scale factor:10\n",
            "Enter distance of galaxy from planet:3.26\n",
            "Enter size of the universe observer is in:3.3\n",
            "Time period(in seconds) to know  about a galaxy is6465121076018565.0 Mpc s\n"
          ]
        }
      ]
    },
    {
      "cell_type": "code",
      "source": [
        ""
      ],
      "metadata": {
        "id": "JLBe21FyytAI"
      },
      "execution_count": null,
      "outputs": []
    },
    {
      "cell_type": "code",
      "source": [
        "from astropy import units as u\n",
        "x = 1.0 * u.megaparsec\n",
        "y=x.to(u.km)\n",
        "print(y)"
      ],
      "metadata": {
        "colab": {
          "base_uri": "https://localhost:8080/"
        },
        "id": "dYPxv72-vSrN",
        "outputId": "e3102676-9006-41ab-8c1c-0f1dc515d330"
      },
      "execution_count": 9,
      "outputs": [
        {
          "output_type": "stream",
          "name": "stdout",
          "text": [
            "3.085677581491367e+19 km\n"
          ]
        }
      ]
    }
  ]
}