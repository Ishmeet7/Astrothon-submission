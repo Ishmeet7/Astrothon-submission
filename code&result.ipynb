{
  "nbformat": 4,
  "nbformat_minor": 0,
  "metadata": {
    "colab": {
      "provenance": []
    },
    "kernelspec": {
      "name": "python3",
      "display_name": "Python 3"
    },
    "language_info": {
      "name": "python"
    }
  },
  "cells": [
    {
      "cell_type": "code",
      "source": [
        "pip install astropy"
      ],
      "metadata": {
        "id": "Z0sZvYwYjAMU",
        "colab": {
          "base_uri": "https://localhost:8080/"
        },
        "outputId": "f06a9b70-53ba-4798-a4fc-7db562f81f23"
      },
      "execution_count": 4,
      "outputs": [
        {
          "output_type": "stream",
          "name": "stdout",
          "text": [
            "Looking in indexes: https://pypi.org/simple, https://us-python.pkg.dev/colab-wheels/public/simple/\n",
            "Requirement already satisfied: astropy in /usr/local/lib/python3.8/dist-packages (4.3.1)\n",
            "Requirement already satisfied: numpy>=1.17 in /usr/local/lib/python3.8/dist-packages (from astropy) (1.21.6)\n",
            "Requirement already satisfied: pyerfa>=1.7.3 in /usr/local/lib/python3.8/dist-packages (from astropy) (2.0.0.1)\n"
          ]
        }
      ]
    },
    {
      "cell_type": "code",
      "source": [
        "from astropy.cosmology import WMAP9 as cosmo\n",
        "from astropy import units as u"
      ],
      "metadata": {
        "id": "nsU0yI9t3b5N"
      },
      "execution_count": 3,
      "outputs": []
    },
    {
      "cell_type": "code",
      "source": [
        "#taking value of scale factor as input\n",
        "scale_factor=float(input(\"Enter the value of scale factor:\"))  "
      ],
      "metadata": {
        "colab": {
          "base_uri": "https://localhost:8080/"
        },
        "id": "ue9bprG33iUs",
        "outputId": "08720734-2926-4441-9bf6-6603e7565921"
      },
      "execution_count": 2,
      "outputs": [
        {
          "name": "stdout",
          "output_type": "stream",
          "text": [
            "Enter the value of scale factor:10\n"
          ]
        }
      ]
    },
    {
      "cell_type": "code",
      "source": [
        "#calculation of redshift,z\n",
        "z=(1/scale_factor)-1"
      ],
      "metadata": {
        "id": "74_qLxqF3kIW"
      },
      "execution_count": 5,
      "outputs": []
    },
    {
      "cell_type": "code",
      "source": [
        "#taking distance of galaxy from planet as input\n",
        "dist=float(input(\"Enter distance of galaxy from planet:\"))   #enter distance in million years i.e.if distance is 5 million light years enter just 5"
      ],
      "metadata": {
        "colab": {
          "base_uri": "https://localhost:8080/"
        },
        "id": "_5Ae-HrI3sBj",
        "outputId": "7af3d1ac-b31e-4fa3-f76f-902a97b8d2e1"
      },
      "execution_count": 6,
      "outputs": [
        {
          "name": "stdout",
          "output_type": "stream",
          "text": [
            "Enter distance of galaxy from planet:3.26\n"
          ]
        }
      ]
    },
    {
      "cell_type": "code",
      "source": [
        "#h0=hubble's constant\n",
        "#calculating hubble's constant\n",
        "h0=cosmo.H(z)"
      ],
      "metadata": {
        "id": "_QSq4K5D3sYM"
      },
      "execution_count": 7,
      "outputs": []
    },
    {
      "cell_type": "code",
      "source": [
        "#age=age of universe  \n",
        "#calculating age of universe\n",
        "age=cosmo.age(z) "
      ],
      "metadata": {
        "id": "LJSAPQLJ3si-"
      },
      "execution_count": 8,
      "outputs": []
    },
    {
      "cell_type": "code",
      "source": [
        "#size=size of universe\n",
        "#taking size of universe as input\n",
        "size_univ=float(input(\"Enter size of the universe observer is in:\"))  #if distance is 5 million light years enter just 5"
      ],
      "metadata": {
        "colab": {
          "base_uri": "https://localhost:8080/"
        },
        "id": "nKHCyZum3swy",
        "outputId": "55147538-f2fe-42a4-9884-cd98205b9622"
      },
      "execution_count": 10,
      "outputs": [
        {
          "name": "stdout",
          "output_type": "stream",
          "text": [
            "Enter size of the universe observer is in:3.3\n"
          ]
        }
      ]
    },
    {
      "cell_type": "code",
      "source": [
        "#calculating distance upto which galaxy can be seen\n",
        "distance=size_univ-dist"
      ],
      "metadata": {
        "id": "ACHLxk2d36jp"
      },
      "execution_count": 11,
      "outputs": []
    },
    {
      "cell_type": "code",
      "source": [
        "#calculating rs=speed of recession of galaxy        \n",
        "rs=dist*h0"
      ],
      "metadata": {
        "id": "hL9ivK__36lX"
      },
      "execution_count": 14,
      "outputs": []
    },
    {
      "cell_type": "code",
      "source": [
        "#conversion of megaparsec to km\n",
        "x = 1.0 * u.megaparsec\n",
        "y=x.to(u.km) "
      ],
      "metadata": {
        "id": "SFciosZM36pn"
      },
      "execution_count": 13,
      "outputs": []
    },
    {
      "cell_type": "code",
      "source": [
        "#calculating time(t) upto which galaxy can be seen \n",
        "t=(distance*y)/rs\n",
        "print(\"Time period(in seconds) to know  about a galaxy is: \"+ str(t))"
      ],
      "metadata": {
        "colab": {
          "base_uri": "https://localhost:8080/"
        },
        "id": "SZUx_ieI36rR",
        "outputId": "87605cd7-34b9-4057-822c-c359e39e74e6"
      },
      "execution_count": 15,
      "outputs": [
        {
          "output_type": "stream",
          "name": "stdout",
          "text": [
            "Time period(in seconds) to know  about a galaxy is: 6465121076018565.0 Mpc s\n"
          ]
        }
      ]
    },
    {
      "cell_type": "code",
      "source": [
        "#conversion of units\n",
        "x = 1.0 * u.megaparsec\n",
        "y=x.to(u.km)\n",
        "print(y)"
      ],
      "metadata": {
        "colab": {
          "base_uri": "https://localhost:8080/"
        },
        "id": "igP4X7GQ36vj",
        "outputId": "16b26a43-c041-41b0-dc74-63741656ca85"
      },
      "execution_count": 16,
      "outputs": [
        {
          "output_type": "stream",
          "name": "stdout",
          "text": [
            "3.085677581491367e+19 km\n"
          ]
        }
      ]
    },
    {
      "cell_type": "markdown",
      "source": [],
      "metadata": {
        "id": "9jZCKN7ci74k"
      }
    }
  ]
}